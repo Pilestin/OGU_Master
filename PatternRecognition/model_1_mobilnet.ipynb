{
 "cells": [
  {
   "cell_type": "code",
   "execution_count": 33,
   "metadata": {},
   "outputs": [],
   "source": [
    "import pandas as pd\n",
    "import tensorflow as tf\n",
    "import matplotlib.pyplot as plt"
   ]
  },
  {
   "cell_type": "markdown",
   "metadata": {},
   "source": [
    "### 1 - Verinin elde edilmesi\n",
    "\n",
    "İlk olarak veriler oluşturulan excel içerisinden okunmalı ve pandas ile dataframe'e aktarılmalıdır. Bunun için pandas kütüphanesi kullanılmaktadır."
   ]
  },
  {
   "cell_type": "code",
   "execution_count": 34,
   "metadata": {},
   "outputs": [
    {
     "name": "stderr",
     "output_type": "stream",
     "text": [
      "C:\\Users\\Yasin\\AppData\\Local\\Temp\\ipykernel_9596\\641972447.py:3: SettingWithCopyWarning: \n",
      "A value is trying to be set on a copy of a slice from a DataFrame.\n",
      "Try using .loc[row_indexer,col_indexer] = value instead\n",
      "\n",
      "See the caveats in the documentation: https://pandas.pydata.org/pandas-docs/stable/user_guide/indexing.html#returning-a-view-versus-a-copy\n",
      "  df_clean['status'] = df_clean['status'].astype(int)  # Etiketleri tam sayıya çevir\n"
     ]
    }
   ],
   "source": [
    "df = pd.read_excel('source/leaves.xlsx')\n",
    "df_clean = df[df['status'].notna()]  # \"None\" olanları filtrele\n",
    "df_clean['status'] = df_clean['status'].astype(int)  # Etiketleri tam sayıya çevir"
   ]
  },
  {
   "cell_type": "code",
   "execution_count": 35,
   "metadata": {},
   "outputs": [
    {
     "data": {
      "text/html": [
       "<div>\n",
       "<style scoped>\n",
       "    .dataframe tbody tr th:only-of-type {\n",
       "        vertical-align: middle;\n",
       "    }\n",
       "\n",
       "    .dataframe tbody tr th {\n",
       "        vertical-align: top;\n",
       "    }\n",
       "\n",
       "    .dataframe thead th {\n",
       "        text-align: right;\n",
       "    }\n",
       "</style>\n",
       "<table border=\"1\" class=\"dataframe\">\n",
       "  <thead>\n",
       "    <tr style=\"text-align: right;\">\n",
       "      <th></th>\n",
       "      <th>image_path</th>\n",
       "      <th>filtered_image_path</th>\n",
       "      <th>class</th>\n",
       "      <th>file_name</th>\n",
       "      <th>status</th>\n",
       "    </tr>\n",
       "  </thead>\n",
       "  <tbody>\n",
       "    <tr>\n",
       "      <th>0</th>\n",
       "      <td>leaves/1/image_2024-05-27_16-41-31_0.jpg</td>\n",
       "      <td>processed_images/1/image_2024-05-27_16-41-31_0...</td>\n",
       "      <td>1</td>\n",
       "      <td>image_2024-05-27_16-41-31_0.jpg</td>\n",
       "      <td>1.0</td>\n",
       "    </tr>\n",
       "    <tr>\n",
       "      <th>1</th>\n",
       "      <td>leaves/1/image_2024-05-27_16-52-13_0.jpg</td>\n",
       "      <td>processed_images/1/image_2024-05-27_16-52-13_0...</td>\n",
       "      <td>1</td>\n",
       "      <td>image_2024-05-27_16-52-13_0.jpg</td>\n",
       "      <td>1.0</td>\n",
       "    </tr>\n",
       "    <tr>\n",
       "      <th>2</th>\n",
       "      <td>leaves/1/image_2024-05-27_17-02-54_0.jpg</td>\n",
       "      <td>processed_images/1/image_2024-05-27_17-02-54_0...</td>\n",
       "      <td>1</td>\n",
       "      <td>image_2024-05-27_17-02-54_0.jpg</td>\n",
       "      <td>1.0</td>\n",
       "    </tr>\n",
       "    <tr>\n",
       "      <th>3</th>\n",
       "      <td>leaves/1/image_2024-05-27_17-13-36_0.jpg</td>\n",
       "      <td>processed_images/1/image_2024-05-27_17-13-36_0...</td>\n",
       "      <td>1</td>\n",
       "      <td>image_2024-05-27_17-13-36_0.jpg</td>\n",
       "      <td>1.0</td>\n",
       "    </tr>\n",
       "    <tr>\n",
       "      <th>4</th>\n",
       "      <td>leaves/1/image_2024-05-27_17-24-18_0.jpg</td>\n",
       "      <td>processed_images/1/image_2024-05-27_17-24-18_0...</td>\n",
       "      <td>1</td>\n",
       "      <td>image_2024-05-27_17-24-18_0.jpg</td>\n",
       "      <td>1.0</td>\n",
       "    </tr>\n",
       "    <tr>\n",
       "      <th>...</th>\n",
       "      <td>...</td>\n",
       "      <td>...</td>\n",
       "      <td>...</td>\n",
       "      <td>...</td>\n",
       "      <td>...</td>\n",
       "    </tr>\n",
       "    <tr>\n",
       "      <th>3216</th>\n",
       "      <td>leaves/8/image_2024-06-04_13-57-18_2.jpg</td>\n",
       "      <td>processed_images/8/image_2024-06-04_13-57-18_2...</td>\n",
       "      <td>8</td>\n",
       "      <td>image_2024-06-04_13-57-18_2.jpg</td>\n",
       "      <td>0.0</td>\n",
       "    </tr>\n",
       "    <tr>\n",
       "      <th>3217</th>\n",
       "      <td>leaves/8/image_2024-06-04_14-08-01_2.jpg</td>\n",
       "      <td>processed_images/8/image_2024-06-04_14-08-01_2...</td>\n",
       "      <td>8</td>\n",
       "      <td>image_2024-06-04_14-08-01_2.jpg</td>\n",
       "      <td>0.0</td>\n",
       "    </tr>\n",
       "    <tr>\n",
       "      <th>3218</th>\n",
       "      <td>leaves/8/image_2024-06-04_14-18-43_2.jpg</td>\n",
       "      <td>processed_images/8/image_2024-06-04_14-18-43_2...</td>\n",
       "      <td>8</td>\n",
       "      <td>image_2024-06-04_14-18-43_2.jpg</td>\n",
       "      <td>0.0</td>\n",
       "    </tr>\n",
       "    <tr>\n",
       "      <th>3219</th>\n",
       "      <td>leaves/8/image_2024-06-04_14-29-25_2.jpg</td>\n",
       "      <td>processed_images/8/image_2024-06-04_14-29-25_2...</td>\n",
       "      <td>8</td>\n",
       "      <td>image_2024-06-04_14-29-25_2.jpg</td>\n",
       "      <td>0.0</td>\n",
       "    </tr>\n",
       "    <tr>\n",
       "      <th>3220</th>\n",
       "      <td>leaves/8/image_2024-06-04_14-40-07_2.jpg</td>\n",
       "      <td>processed_images/8/image_2024-06-04_14-40-07_2...</td>\n",
       "      <td>8</td>\n",
       "      <td>image_2024-06-04_14-40-07_2.jpg</td>\n",
       "      <td>0.0</td>\n",
       "    </tr>\n",
       "  </tbody>\n",
       "</table>\n",
       "<p>3221 rows × 5 columns</p>\n",
       "</div>"
      ],
      "text/plain": [
       "                                    image_path  \\\n",
       "0     leaves/1/image_2024-05-27_16-41-31_0.jpg   \n",
       "1     leaves/1/image_2024-05-27_16-52-13_0.jpg   \n",
       "2     leaves/1/image_2024-05-27_17-02-54_0.jpg   \n",
       "3     leaves/1/image_2024-05-27_17-13-36_0.jpg   \n",
       "4     leaves/1/image_2024-05-27_17-24-18_0.jpg   \n",
       "...                                        ...   \n",
       "3216  leaves/8/image_2024-06-04_13-57-18_2.jpg   \n",
       "3217  leaves/8/image_2024-06-04_14-08-01_2.jpg   \n",
       "3218  leaves/8/image_2024-06-04_14-18-43_2.jpg   \n",
       "3219  leaves/8/image_2024-06-04_14-29-25_2.jpg   \n",
       "3220  leaves/8/image_2024-06-04_14-40-07_2.jpg   \n",
       "\n",
       "                                    filtered_image_path  class  \\\n",
       "0     processed_images/1/image_2024-05-27_16-41-31_0...      1   \n",
       "1     processed_images/1/image_2024-05-27_16-52-13_0...      1   \n",
       "2     processed_images/1/image_2024-05-27_17-02-54_0...      1   \n",
       "3     processed_images/1/image_2024-05-27_17-13-36_0...      1   \n",
       "4     processed_images/1/image_2024-05-27_17-24-18_0...      1   \n",
       "...                                                 ...    ...   \n",
       "3216  processed_images/8/image_2024-06-04_13-57-18_2...      8   \n",
       "3217  processed_images/8/image_2024-06-04_14-08-01_2...      8   \n",
       "3218  processed_images/8/image_2024-06-04_14-18-43_2...      8   \n",
       "3219  processed_images/8/image_2024-06-04_14-29-25_2...      8   \n",
       "3220  processed_images/8/image_2024-06-04_14-40-07_2...      8   \n",
       "\n",
       "                            file_name  status  \n",
       "0     image_2024-05-27_16-41-31_0.jpg     1.0  \n",
       "1     image_2024-05-27_16-52-13_0.jpg     1.0  \n",
       "2     image_2024-05-27_17-02-54_0.jpg     1.0  \n",
       "3     image_2024-05-27_17-13-36_0.jpg     1.0  \n",
       "4     image_2024-05-27_17-24-18_0.jpg     1.0  \n",
       "...                               ...     ...  \n",
       "3216  image_2024-06-04_13-57-18_2.jpg     0.0  \n",
       "3217  image_2024-06-04_14-08-01_2.jpg     0.0  \n",
       "3218  image_2024-06-04_14-18-43_2.jpg     0.0  \n",
       "3219  image_2024-06-04_14-29-25_2.jpg     0.0  \n",
       "3220  image_2024-06-04_14-40-07_2.jpg     0.0  \n",
       "\n",
       "[3221 rows x 5 columns]"
      ]
     },
     "execution_count": 35,
     "metadata": {},
     "output_type": "execute_result"
    }
   ],
   "source": [
    "df"
   ]
  },
  {
   "cell_type": "markdown",
   "metadata": {},
   "source": [
    "Dataframe içerisinde (excel dosyasından da incelenebilir) orjinal resim path'i, class'ı, process edilmiş resmin path'i ve el ile işaretleme yapılmış status'u bulunmaktadır. Bu değer bitkide leke varsa 1 yoksa 0 olarak işaretlenmiştir. \n",
    "\n",
    "status 1 : Bitki hasta \n",
    "\n",
    "status 0 : Bitki sağlıklı "
   ]
  },
  {
   "cell_type": "code",
   "execution_count": 36,
   "metadata": {},
   "outputs": [
    {
     "name": "stdout",
     "output_type": "stream",
     "text": [
      "Sınıf Dağılımı:\n",
      "status\n",
      "1    2262\n",
      "0     958\n",
      "Name: count, dtype: int64\n"
     ]
    }
   ],
   "source": [
    "class_distribution = df_clean['status'].value_counts()\n",
    "print(f\"Sınıf Dağılımı:\\n{class_distribution}\")"
   ]
  },
  {
   "cell_type": "markdown",
   "metadata": {},
   "source": [
    "Verilerin train ve test olarak ayrıştırılması için sklearn kütüphanesinden train_test_split fonksiyonu ve GroupShuffleSplit sınıfı kullanılmaktadır. Bu fonksiyon ile veriler %80 train %20 test olacak şekilde ayrıştırılmaktadır."
   ]
  },
  {
   "cell_type": "code",
   "execution_count": 37,
   "metadata": {},
   "outputs": [],
   "source": [
    "from sklearn.model_selection import GroupShuffleSplit\n",
    "\n",
    "splitter = GroupShuffleSplit(test_size=0.2, n_splits=1, random_state=42)\n",
    "train_idx, test_idx = next(splitter.split(df_clean, groups=df_clean['class']))\n",
    "\n",
    "train_df = df_clean.iloc[train_idx]\n",
    "test_df = df_clean.iloc[test_idx]"
   ]
  },
  {
   "cell_type": "code",
   "execution_count": 38,
   "metadata": {},
   "outputs": [
    {
     "data": {
      "text/html": [
       "<div>\n",
       "<style scoped>\n",
       "    .dataframe tbody tr th:only-of-type {\n",
       "        vertical-align: middle;\n",
       "    }\n",
       "\n",
       "    .dataframe tbody tr th {\n",
       "        vertical-align: top;\n",
       "    }\n",
       "\n",
       "    .dataframe thead th {\n",
       "        text-align: right;\n",
       "    }\n",
       "</style>\n",
       "<table border=\"1\" class=\"dataframe\">\n",
       "  <thead>\n",
       "    <tr style=\"text-align: right;\">\n",
       "      <th></th>\n",
       "      <th>image_path</th>\n",
       "      <th>filtered_image_path</th>\n",
       "      <th>class</th>\n",
       "      <th>file_name</th>\n",
       "      <th>status</th>\n",
       "    </tr>\n",
       "  </thead>\n",
       "  <tbody>\n",
       "    <tr>\n",
       "      <th>593</th>\n",
       "      <td>leaves/2/image_2024-05-27_16-41-31_3.jpg</td>\n",
       "      <td>processed_images/2/image_2024-05-27_16-41-31_3...</td>\n",
       "      <td>2</td>\n",
       "      <td>image_2024-05-27_16-41-31_3.jpg</td>\n",
       "      <td>0</td>\n",
       "    </tr>\n",
       "    <tr>\n",
       "      <th>595</th>\n",
       "      <td>leaves/2/image_2024-05-27_16-52-13_7.jpg</td>\n",
       "      <td>processed_images/2/image_2024-05-27_16-52-13_7...</td>\n",
       "      <td>2</td>\n",
       "      <td>image_2024-05-27_16-52-13_7.jpg</td>\n",
       "      <td>0</td>\n",
       "    </tr>\n",
       "    <tr>\n",
       "      <th>596</th>\n",
       "      <td>leaves/2/image_2024-05-27_17-02-54_5.jpg</td>\n",
       "      <td>processed_images/2/image_2024-05-27_17-02-54_5...</td>\n",
       "      <td>2</td>\n",
       "      <td>image_2024-05-27_17-02-54_5.jpg</td>\n",
       "      <td>0</td>\n",
       "    </tr>\n",
       "    <tr>\n",
       "      <th>597</th>\n",
       "      <td>leaves/2/image_2024-05-27_17-13-36_5.jpg</td>\n",
       "      <td>processed_images/2/image_2024-05-27_17-13-36_5...</td>\n",
       "      <td>2</td>\n",
       "      <td>image_2024-05-27_17-13-36_5.jpg</td>\n",
       "      <td>0</td>\n",
       "    </tr>\n",
       "    <tr>\n",
       "      <th>598</th>\n",
       "      <td>leaves/2/image_2024-05-27_17-24-18_5.jpg</td>\n",
       "      <td>processed_images/2/image_2024-05-27_17-24-18_5...</td>\n",
       "      <td>2</td>\n",
       "      <td>image_2024-05-27_17-24-18_5.jpg</td>\n",
       "      <td>0</td>\n",
       "    </tr>\n",
       "    <tr>\n",
       "      <th>...</th>\n",
       "      <td>...</td>\n",
       "      <td>...</td>\n",
       "      <td>...</td>\n",
       "      <td>...</td>\n",
       "      <td>...</td>\n",
       "    </tr>\n",
       "    <tr>\n",
       "      <th>2967</th>\n",
       "      <td>leaves/6/image_2024-06-04_14-18-43_4.jpg</td>\n",
       "      <td>processed_images/6/image_2024-06-04_14-18-43_4...</td>\n",
       "      <td>6</td>\n",
       "      <td>image_2024-06-04_14-18-43_4.jpg</td>\n",
       "      <td>0</td>\n",
       "    </tr>\n",
       "    <tr>\n",
       "      <th>2968</th>\n",
       "      <td>leaves/6/image_2024-06-04_14-29-25_3.jpg</td>\n",
       "      <td>processed_images/6/image_2024-06-04_14-29-25_3...</td>\n",
       "      <td>6</td>\n",
       "      <td>image_2024-06-04_14-29-25_3.jpg</td>\n",
       "      <td>1</td>\n",
       "    </tr>\n",
       "    <tr>\n",
       "      <th>2969</th>\n",
       "      <td>leaves/6/image_2024-06-04_14-29-25_4.jpg</td>\n",
       "      <td>processed_images/6/image_2024-06-04_14-29-25_4...</td>\n",
       "      <td>6</td>\n",
       "      <td>image_2024-06-04_14-29-25_4.jpg</td>\n",
       "      <td>0</td>\n",
       "    </tr>\n",
       "    <tr>\n",
       "      <th>2970</th>\n",
       "      <td>leaves/6/image_2024-06-04_14-40-07_3.jpg</td>\n",
       "      <td>processed_images/6/image_2024-06-04_14-40-07_3...</td>\n",
       "      <td>6</td>\n",
       "      <td>image_2024-06-04_14-40-07_3.jpg</td>\n",
       "      <td>0</td>\n",
       "    </tr>\n",
       "    <tr>\n",
       "      <th>2971</th>\n",
       "      <td>leaves/6/image_2024-06-04_14-40-07_4.jpg</td>\n",
       "      <td>processed_images/6/image_2024-06-04_14-40-07_4...</td>\n",
       "      <td>6</td>\n",
       "      <td>image_2024-06-04_14-40-07_4.jpg</td>\n",
       "      <td>1</td>\n",
       "    </tr>\n",
       "  </tbody>\n",
       "</table>\n",
       "<p>913 rows × 5 columns</p>\n",
       "</div>"
      ],
      "text/plain": [
       "                                    image_path  \\\n",
       "593   leaves/2/image_2024-05-27_16-41-31_3.jpg   \n",
       "595   leaves/2/image_2024-05-27_16-52-13_7.jpg   \n",
       "596   leaves/2/image_2024-05-27_17-02-54_5.jpg   \n",
       "597   leaves/2/image_2024-05-27_17-13-36_5.jpg   \n",
       "598   leaves/2/image_2024-05-27_17-24-18_5.jpg   \n",
       "...                                        ...   \n",
       "2967  leaves/6/image_2024-06-04_14-18-43_4.jpg   \n",
       "2968  leaves/6/image_2024-06-04_14-29-25_3.jpg   \n",
       "2969  leaves/6/image_2024-06-04_14-29-25_4.jpg   \n",
       "2970  leaves/6/image_2024-06-04_14-40-07_3.jpg   \n",
       "2971  leaves/6/image_2024-06-04_14-40-07_4.jpg   \n",
       "\n",
       "                                    filtered_image_path  class  \\\n",
       "593   processed_images/2/image_2024-05-27_16-41-31_3...      2   \n",
       "595   processed_images/2/image_2024-05-27_16-52-13_7...      2   \n",
       "596   processed_images/2/image_2024-05-27_17-02-54_5...      2   \n",
       "597   processed_images/2/image_2024-05-27_17-13-36_5...      2   \n",
       "598   processed_images/2/image_2024-05-27_17-24-18_5...      2   \n",
       "...                                                 ...    ...   \n",
       "2967  processed_images/6/image_2024-06-04_14-18-43_4...      6   \n",
       "2968  processed_images/6/image_2024-06-04_14-29-25_3...      6   \n",
       "2969  processed_images/6/image_2024-06-04_14-29-25_4...      6   \n",
       "2970  processed_images/6/image_2024-06-04_14-40-07_3...      6   \n",
       "2971  processed_images/6/image_2024-06-04_14-40-07_4...      6   \n",
       "\n",
       "                            file_name  status  \n",
       "593   image_2024-05-27_16-41-31_3.jpg       0  \n",
       "595   image_2024-05-27_16-52-13_7.jpg       0  \n",
       "596   image_2024-05-27_17-02-54_5.jpg       0  \n",
       "597   image_2024-05-27_17-13-36_5.jpg       0  \n",
       "598   image_2024-05-27_17-24-18_5.jpg       0  \n",
       "...                               ...     ...  \n",
       "2967  image_2024-06-04_14-18-43_4.jpg       0  \n",
       "2968  image_2024-06-04_14-29-25_3.jpg       1  \n",
       "2969  image_2024-06-04_14-29-25_4.jpg       0  \n",
       "2970  image_2024-06-04_14-40-07_3.jpg       0  \n",
       "2971  image_2024-06-04_14-40-07_4.jpg       1  \n",
       "\n",
       "[913 rows x 5 columns]"
      ]
     },
     "execution_count": 38,
     "metadata": {},
     "output_type": "execute_result"
    }
   ],
   "source": [
    "test_df"
   ]
  },
  {
   "cell_type": "code",
   "execution_count": 39,
   "metadata": {},
   "outputs": [
    {
     "data": {
      "text/html": [
       "<div>\n",
       "<style scoped>\n",
       "    .dataframe tbody tr th:only-of-type {\n",
       "        vertical-align: middle;\n",
       "    }\n",
       "\n",
       "    .dataframe tbody tr th {\n",
       "        vertical-align: top;\n",
       "    }\n",
       "\n",
       "    .dataframe thead th {\n",
       "        text-align: right;\n",
       "    }\n",
       "</style>\n",
       "<table border=\"1\" class=\"dataframe\">\n",
       "  <thead>\n",
       "    <tr style=\"text-align: right;\">\n",
       "      <th></th>\n",
       "      <th>image_path</th>\n",
       "      <th>filtered_image_path</th>\n",
       "      <th>class</th>\n",
       "      <th>file_name</th>\n",
       "      <th>status</th>\n",
       "    </tr>\n",
       "  </thead>\n",
       "  <tbody>\n",
       "    <tr>\n",
       "      <th>0</th>\n",
       "      <td>leaves/1/image_2024-05-27_16-41-31_0.jpg</td>\n",
       "      <td>processed_images/1/image_2024-05-27_16-41-31_0...</td>\n",
       "      <td>1</td>\n",
       "      <td>image_2024-05-27_16-41-31_0.jpg</td>\n",
       "      <td>1</td>\n",
       "    </tr>\n",
       "    <tr>\n",
       "      <th>1</th>\n",
       "      <td>leaves/1/image_2024-05-27_16-52-13_0.jpg</td>\n",
       "      <td>processed_images/1/image_2024-05-27_16-52-13_0...</td>\n",
       "      <td>1</td>\n",
       "      <td>image_2024-05-27_16-52-13_0.jpg</td>\n",
       "      <td>1</td>\n",
       "    </tr>\n",
       "    <tr>\n",
       "      <th>2</th>\n",
       "      <td>leaves/1/image_2024-05-27_17-02-54_0.jpg</td>\n",
       "      <td>processed_images/1/image_2024-05-27_17-02-54_0...</td>\n",
       "      <td>1</td>\n",
       "      <td>image_2024-05-27_17-02-54_0.jpg</td>\n",
       "      <td>1</td>\n",
       "    </tr>\n",
       "    <tr>\n",
       "      <th>3</th>\n",
       "      <td>leaves/1/image_2024-05-27_17-13-36_0.jpg</td>\n",
       "      <td>processed_images/1/image_2024-05-27_17-13-36_0...</td>\n",
       "      <td>1</td>\n",
       "      <td>image_2024-05-27_17-13-36_0.jpg</td>\n",
       "      <td>1</td>\n",
       "    </tr>\n",
       "    <tr>\n",
       "      <th>4</th>\n",
       "      <td>leaves/1/image_2024-05-27_17-24-18_0.jpg</td>\n",
       "      <td>processed_images/1/image_2024-05-27_17-24-18_0...</td>\n",
       "      <td>1</td>\n",
       "      <td>image_2024-05-27_17-24-18_0.jpg</td>\n",
       "      <td>1</td>\n",
       "    </tr>\n",
       "    <tr>\n",
       "      <th>...</th>\n",
       "      <td>...</td>\n",
       "      <td>...</td>\n",
       "      <td>...</td>\n",
       "      <td>...</td>\n",
       "      <td>...</td>\n",
       "    </tr>\n",
       "    <tr>\n",
       "      <th>3216</th>\n",
       "      <td>leaves/8/image_2024-06-04_13-57-18_2.jpg</td>\n",
       "      <td>processed_images/8/image_2024-06-04_13-57-18_2...</td>\n",
       "      <td>8</td>\n",
       "      <td>image_2024-06-04_13-57-18_2.jpg</td>\n",
       "      <td>0</td>\n",
       "    </tr>\n",
       "    <tr>\n",
       "      <th>3217</th>\n",
       "      <td>leaves/8/image_2024-06-04_14-08-01_2.jpg</td>\n",
       "      <td>processed_images/8/image_2024-06-04_14-08-01_2...</td>\n",
       "      <td>8</td>\n",
       "      <td>image_2024-06-04_14-08-01_2.jpg</td>\n",
       "      <td>0</td>\n",
       "    </tr>\n",
       "    <tr>\n",
       "      <th>3218</th>\n",
       "      <td>leaves/8/image_2024-06-04_14-18-43_2.jpg</td>\n",
       "      <td>processed_images/8/image_2024-06-04_14-18-43_2...</td>\n",
       "      <td>8</td>\n",
       "      <td>image_2024-06-04_14-18-43_2.jpg</td>\n",
       "      <td>0</td>\n",
       "    </tr>\n",
       "    <tr>\n",
       "      <th>3219</th>\n",
       "      <td>leaves/8/image_2024-06-04_14-29-25_2.jpg</td>\n",
       "      <td>processed_images/8/image_2024-06-04_14-29-25_2...</td>\n",
       "      <td>8</td>\n",
       "      <td>image_2024-06-04_14-29-25_2.jpg</td>\n",
       "      <td>0</td>\n",
       "    </tr>\n",
       "    <tr>\n",
       "      <th>3220</th>\n",
       "      <td>leaves/8/image_2024-06-04_14-40-07_2.jpg</td>\n",
       "      <td>processed_images/8/image_2024-06-04_14-40-07_2...</td>\n",
       "      <td>8</td>\n",
       "      <td>image_2024-06-04_14-40-07_2.jpg</td>\n",
       "      <td>0</td>\n",
       "    </tr>\n",
       "  </tbody>\n",
       "</table>\n",
       "<p>2307 rows × 5 columns</p>\n",
       "</div>"
      ],
      "text/plain": [
       "                                    image_path  \\\n",
       "0     leaves/1/image_2024-05-27_16-41-31_0.jpg   \n",
       "1     leaves/1/image_2024-05-27_16-52-13_0.jpg   \n",
       "2     leaves/1/image_2024-05-27_17-02-54_0.jpg   \n",
       "3     leaves/1/image_2024-05-27_17-13-36_0.jpg   \n",
       "4     leaves/1/image_2024-05-27_17-24-18_0.jpg   \n",
       "...                                        ...   \n",
       "3216  leaves/8/image_2024-06-04_13-57-18_2.jpg   \n",
       "3217  leaves/8/image_2024-06-04_14-08-01_2.jpg   \n",
       "3218  leaves/8/image_2024-06-04_14-18-43_2.jpg   \n",
       "3219  leaves/8/image_2024-06-04_14-29-25_2.jpg   \n",
       "3220  leaves/8/image_2024-06-04_14-40-07_2.jpg   \n",
       "\n",
       "                                    filtered_image_path  class  \\\n",
       "0     processed_images/1/image_2024-05-27_16-41-31_0...      1   \n",
       "1     processed_images/1/image_2024-05-27_16-52-13_0...      1   \n",
       "2     processed_images/1/image_2024-05-27_17-02-54_0...      1   \n",
       "3     processed_images/1/image_2024-05-27_17-13-36_0...      1   \n",
       "4     processed_images/1/image_2024-05-27_17-24-18_0...      1   \n",
       "...                                                 ...    ...   \n",
       "3216  processed_images/8/image_2024-06-04_13-57-18_2...      8   \n",
       "3217  processed_images/8/image_2024-06-04_14-08-01_2...      8   \n",
       "3218  processed_images/8/image_2024-06-04_14-18-43_2...      8   \n",
       "3219  processed_images/8/image_2024-06-04_14-29-25_2...      8   \n",
       "3220  processed_images/8/image_2024-06-04_14-40-07_2...      8   \n",
       "\n",
       "                            file_name  status  \n",
       "0     image_2024-05-27_16-41-31_0.jpg       1  \n",
       "1     image_2024-05-27_16-52-13_0.jpg       1  \n",
       "2     image_2024-05-27_17-02-54_0.jpg       1  \n",
       "3     image_2024-05-27_17-13-36_0.jpg       1  \n",
       "4     image_2024-05-27_17-24-18_0.jpg       1  \n",
       "...                               ...     ...  \n",
       "3216  image_2024-06-04_13-57-18_2.jpg       0  \n",
       "3217  image_2024-06-04_14-08-01_2.jpg       0  \n",
       "3218  image_2024-06-04_14-18-43_2.jpg       0  \n",
       "3219  image_2024-06-04_14-29-25_2.jpg       0  \n",
       "3220  image_2024-06-04_14-40-07_2.jpg       0  \n",
       "\n",
       "[2307 rows x 5 columns]"
      ]
     },
     "execution_count": 39,
     "metadata": {},
     "output_type": "execute_result"
    }
   ],
   "source": [
    "train_df"
   ]
  },
  {
   "cell_type": "markdown",
   "metadata": {},
   "source": [
    "train_test_split fonksiyonu ile veriler ayrıştırılırken, GroupShuffleSplit sınıfı ile de gruplar arasında karışıklık olmaması sağlanmaktadır. Ayrıca train içerisinden 0.1 oranında bir validation seti oluşturulmaktadır. Bu validation seti, modelin eğitim sürecinde modelin performansını değerlendirmek için kullanılmaktadır."
   ]
  },
  {
   "cell_type": "code",
   "execution_count": 40,
   "metadata": {},
   "outputs": [],
   "source": [
    "# Train'den validation ayır\n",
    "from sklearn.model_selection import train_test_split\n",
    "\n",
    "\n",
    "train_df, val_df = train_test_split(\n",
    "    train_df, \n",
    "    test_size=0.1, \n",
    "    stratify=train_df['status'],  # Sınıf dağılımını koru\n",
    "    random_state=42\n",
    ")"
   ]
  },
  {
   "cell_type": "markdown",
   "metadata": {},
   "source": [
    "## 2- Verinin ön işlenmesi ve formatlanması\n",
    "\n",
    "Train, validation ve test veri setleri oluşturulurken:\n",
    "\n",
    "- **Shuffle:** Veriler karıştırılarak modelin genelleme yeteneği artırılır.\n",
    "- **TensorFlow Dataset:** DataFrame'deki `image_path` ve `status` kullanılarak `tf.data.Dataset` yapısı oluşturulur.\n",
    "- **Map & Batch:** `load_and_preprocess_image` fonksiyonu ile ön işleme uygulanır, veriler batch'lere ayrılır.\n",
    "- **Prefetch:** Eğitim sırasında I/O darboğazlarını azaltmak için veriler önceden yüklenir.\n"
   ]
  },
  {
   "cell_type": "code",
   "execution_count": 42,
   "metadata": {},
   "outputs": [
    {
     "data": {
      "text/plain": [
       "(2076, 231, 913)"
      ]
     },
     "execution_count": 42,
     "metadata": {},
     "output_type": "execute_result"
    }
   ],
   "source": [
    "len(train_df), len(val_df), len(test_df)"
   ]
  },
  {
   "cell_type": "code",
   "execution_count": 43,
   "metadata": {},
   "outputs": [],
   "source": [
    "\n",
    "def load_and_preprocess_image(path, target_size=(224, 224)):\n",
    "    img = tf.io.read_file(path)\n",
    "    img = tf.image.decode_jpeg(img, channels=3)\n",
    "    img = tf.image.resize(img, target_size)\n",
    "    img = tf.keras.applications.mobilenet_v2.preprocess_input(img)  \n",
    "    return img\n",
    "\n",
    "def create_dataset(df, batch_size=32, shuffle=False):\n",
    "    paths = df['image_path'].values  \n",
    "    labels = df['status'].values\n",
    "    dataset = tf.data.Dataset.from_tensor_slices((paths, labels))\n",
    "    \n",
    "    if shuffle:\n",
    "        dataset = dataset.shuffle(buffer_size=1000)\n",
    "    \n",
    "    dataset = dataset.map(\n",
    "        lambda x, y: (load_and_preprocess_image(x), y),\n",
    "        num_parallel_calls=tf.data.AUTOTUNE\n",
    "    )\n",
    "    dataset = dataset.batch(batch_size).prefetch(tf.data.AUTOTUNE)\n",
    "    return dataset\n",
    "\n",
    "batch_size = 32\n",
    "train_dataset = create_dataset(train_df, batch_size, shuffle=True)\n",
    "val_dataset = create_dataset(val_df, batch_size)\n",
    "test_dataset = create_dataset(test_df, batch_size)"
   ]
  },
  {
   "cell_type": "code",
   "execution_count": 45,
   "metadata": {},
   "outputs": [
    {
     "data": {
      "text/plain": [
       "(65, 8, 29)"
      ]
     },
     "execution_count": 45,
     "metadata": {},
     "output_type": "execute_result"
    }
   ],
   "source": [
    "len(train_dataset), len(val_dataset), len(test_dataset)"
   ]
  },
  {
   "cell_type": "markdown",
   "metadata": {},
   "source": [
    "### Augmentation \n",
    "\n",
    "augmentation işlemleri ile veri artırma yapıldı.\n",
    "Bu işlemler, modelin genelleme yeteneğini artırmak için kullanılır. \n",
    "Aşağıdaki augmentation işlemleri uygulanmıştır:\n",
    "- **Random Flip:** Resimlerin yatay ve dikey olarak rastgele çevrilmesi.\n",
    "- **Random Contrast:** Resimlerin kontrastının rastgele değiştirilmesi.\n",
    "- **Random Rotation:** Resimlerin rastgele döndürülmesi.\n",
    "- **Random Zoom:** Resimlerin rastgele yakınlaştırılması."
   ]
  },
  {
   "cell_type": "code",
   "execution_count": 46,
   "metadata": {},
   "outputs": [],
   "source": [
    "augmentation = tf.keras.Sequential([\n",
    "    tf.keras.layers.RandomFlip(\"horizontal\"),\n",
    "    tf.keras.layers.RandomRotation(0.1),\n",
    "    tf.keras.layers.RandomZoom(0.1),\n",
    "    tf.keras.layers.RandomContrast(0.2)\n",
    "])\n",
    "\n",
    "# Model içine entegre etmek için:\n",
    "inputs = tf.keras.Input(shape=(224, 224, 3))\n",
    "x = augmentation(inputs)"
   ]
  },
  {
   "cell_type": "markdown",
   "metadata": {},
   "source": [
    "## Model - MobileNetV2\n",
    "\n",
    "Alternatif model olarak MobileNetV2 kullanıldı. \n",
    "Bu model, transfer öğrenme yöntemi ile eğitildi (imagenet üzerinde). Transfer öğrenme, önceden eğitilmiş bir modelin ağırlıklarını kullanarak yeni bir modelin eğitilmesini sağlar. Bu sayede eğitim süresi kısalır ve daha az veri ile daha iyi sonuçlar elde edilir."
   ]
  },
  {
   "cell_type": "code",
   "execution_count": 47,
   "metadata": {},
   "outputs": [],
   "source": [
    "base_model = tf.keras.applications.MobileNetV2(\n",
    "    input_shape=(224, 224, 3),\n",
    "    include_top=False,\n",
    "    weights='imagenet',\n",
    "    pooling='avg'\n",
    ")\n",
    "\n",
    "# Taban modeli dondur (opsiyonel)\n",
    "base_model.trainable = False\n",
    "\n",
    "model = tf.keras.Sequential([\n",
    "    tf.keras.Input(shape=(224, 224, 3)),\n",
    "    augmentation,  # Augmentation katmanı\n",
    "    base_model,\n",
    "    tf.keras.layers.Dense(128, activation='relu'),\n",
    "    tf.keras.layers.Dropout(0.3),\n",
    "    tf.keras.layers.Dense(1, activation='sigmoid')  # Binary sınıflandırma\n",
    "])\n",
    "\n",
    "# modelimiz 1-0 sınıflandırma olduğu için binary_crossentropy kullandım\n",
    "model.compile(\n",
    "    optimizer=tf.keras.optimizers.Adam(learning_rate=1e-3),\n",
    "    loss='binary_crossentropy',\n",
    "    metrics=['accuracy', tf.keras.metrics.AUC(name='auc')]\n",
    ")"
   ]
  },
  {
   "cell_type": "code",
   "execution_count": 48,
   "metadata": {},
   "outputs": [
    {
     "data": {
      "text/plain": [
       "29"
      ]
     },
     "execution_count": 48,
     "metadata": {},
     "output_type": "execute_result"
    }
   ],
   "source": [
    "len(test_dataset)"
   ]
  },
  {
   "cell_type": "markdown",
   "metadata": {},
   "source": [
    "Test sonuçları için loss ve accuracy değerleri hesaplandı. "
   ]
  },
  {
   "cell_type": "code",
   "execution_count": 49,
   "metadata": {},
   "outputs": [
    {
     "name": "stdout",
     "output_type": "stream",
     "text": [
      "29/29 [==============================] - 17s 538ms/step - loss: 0.6395 - accuracy: 0.7141 - auc: 0.4760\n",
      "Test Accuracy: 71.41%\n",
      "Test AUC: 0.476\n"
     ]
    }
   ],
   "source": [
    "loss, accuracy, auc = model.evaluate(test_dataset)\n",
    "print(f\"Test Accuracy: {accuracy*100:.2f}%\")\n",
    "print(f\"Test AUC: {auc:.3f}\")"
   ]
  },
  {
   "cell_type": "code",
   "execution_count": 50,
   "metadata": {},
   "outputs": [
    {
     "name": "stdout",
     "output_type": "stream",
     "text": [
      "29/29 [==============================] - 18s 565ms/step\n"
     ]
    },
    {
     "data": {
      "image/png": "[encoded data removed]",
      "text/plain": [
       "<Figure size 640x480 with 2 Axes>"
      ]
     },
     "metadata": {},
     "output_type": "display_data"
    }
   ],
   "source": [
    "y_pred = model.predict(test_dataset).round().astype(int)\n",
    "y_true = test_df['status'].values\n",
    "\n",
    "from sklearn.metrics import confusion_matrix, ConfusionMatrixDisplay\n",
    "cm = confusion_matrix(y_true, y_pred)\n",
    "disp = ConfusionMatrixDisplay(confusion_matrix=cm)\n",
    "disp.plot()\n",
    "plt.show()"
   ]
  },
  {
   "cell_type": "code",
   "execution_count": 51,
   "metadata": {},
   "outputs": [
    {
     "name": "stdout",
     "output_type": "stream",
     "text": [
      "Classification Report:\n",
      "              precision    recall  f1-score   support\n",
      "\n",
      "     Healthy       0.72      1.00      0.83       652\n",
      "    Diseased       0.50      0.01      0.02       261\n",
      "\n",
      "    accuracy                           0.71       913\n",
      "   macro avg       0.61      0.50      0.43       913\n",
      "weighted avg       0.65      0.71      0.60       913\n",
      "\n"
     ]
    }
   ],
   "source": [
    "from sklearn.metrics import classification_report\n",
    "\n",
    "report = classification_report(y_true, y_pred, target_names=['Healthy', 'Diseased'])\n",
    "print(\"Classification Report:\")\n",
    "print(report)"
   ]
  }
 ],
 "metadata": {
  "kernelspec": {
   "display_name": "Python 3",
   "language": "python",
   "name": "python3"
  },
  "language_info": {
   "codemirror_mode": {
    "name": "ipython",
    "version": 3
   },
   "file_extension": ".py",
   "mimetype": "text/x-python",
   "name": "python",
   "nbconvert_exporter": "python",
   "pygments_lexer": "ipython3",
   "version": "3.11.7"
  }
 },
 "nbformat": 4,
 "nbformat_minor": 2
}
